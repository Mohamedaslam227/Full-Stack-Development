{
 "cells": [
  {
   "cell_type": "code",
   "execution_count": 59,
   "id": "cb263d30",
   "metadata": {},
   "outputs": [],
   "source": [
    "import torch\n",
    "import torch.nn as nn\n",
    "import torch.optim as optim\n",
    "import torchvision\n",
    "from torchvision import datasets"
   ]
  },
  {
   "cell_type": "code",
   "execution_count": 38,
   "id": "d8b1eb61",
   "metadata": {},
   "outputs": [],
   "source": [
    "import torchvision.transforms as transforms\n",
    "import PIL as Image"
   ]
  },
  {
   "cell_type": "code",
   "execution_count": 39,
   "id": "ee8fa2ac",
   "metadata": {},
   "outputs": [],
   "source": [
    "device =torch.device(\"cuda:0\" if torch.cuda.is_available() else \"cpu\")"
   ]
  },
  {
   "cell_type": "code",
   "execution_count": 40,
   "id": "0ab84a7d",
   "metadata": {},
   "outputs": [
    {
     "data": {
      "text/plain": [
       "device(type='cpu')"
      ]
     },
     "execution_count": 40,
     "metadata": {},
     "output_type": "execute_result"
    }
   ],
   "source": [
    "device"
   ]
  },
  {
   "cell_type": "code",
   "execution_count": 41,
   "id": "94e6210f",
   "metadata": {},
   "outputs": [],
   "source": [
    "transform = transforms.ToTensor()"
   ]
  },
  {
   "cell_type": "code",
   "execution_count": 42,
   "id": "afd8b013",
   "metadata": {},
   "outputs": [],
   "source": [
    "class ImageLoader:\n",
    "    def __init__(self,TrainPath,TestPath):\n",
    "        self.train=TrainPath\n",
    "        self.test=TestPath\n",
    "    def ImageImporting(self):\n",
    "        trainData=datasets.ImageFolder(root=self.train,transform=transform)\n",
    "        testData=datasets.ImageFolder(root=self.test,transform=transform)\n",
    "        return trainData,testData"
   ]
  },
  {
   "cell_type": "code",
   "execution_count": 43,
   "id": "3d69d511",
   "metadata": {},
   "outputs": [],
   "source": [
    "class MLP(nn.Module):\n",
    " \n",
    "    def __init__(self,inp,hid,hid2,output):\n",
    "        super(MLP, self).__init__()\n",
    "        self.Model=nn.Sequential(nn.Flatten(),nn.Linear(inp,hid),nn.ReLU(),nn.Linear(hid,hid2),nn.ReLU(),nn.Linear(hid2,output))\n",
    " \n",
    "    def forward(self, x):\n",
    "        y_pred = self.Model(x)\n",
    "        return y_pred"
   ]
  },
  {
   "cell_type": "code",
   "execution_count": 44,
   "id": "f9d5eda7",
   "metadata": {},
   "outputs": [],
   "source": [
    "trainPath=\"C:/Users/21BAD051/Downloads/CarImage/Cars Dataset/train\""
   ]
  },
  {
   "cell_type": "code",
   "execution_count": 45,
   "id": "38632345",
   "metadata": {},
   "outputs": [],
   "source": [
    "testPath=\"C:/Users/21BAD051/Downloads/CarImage/Cars Dataset/test\""
   ]
  },
  {
   "cell_type": "code",
   "execution_count": 46,
   "id": "0e47c675",
   "metadata": {},
   "outputs": [],
   "source": [
    "Img=ImageLoader(trainPath,testPath)"
   ]
  },
  {
   "cell_type": "code",
   "execution_count": 47,
   "id": "b95d2aae",
   "metadata": {},
   "outputs": [],
   "source": [
    "trainData,testData=Img.ImageImporting()"
   ]
  },
  {
   "cell_type": "code",
   "execution_count": 48,
   "id": "471372f9",
   "metadata": {},
   "outputs": [
    {
     "data": {
      "text/plain": [
       "Dataset ImageFolder\n",
       "    Number of datapoints: 3352\n",
       "    Root location: C:/Users/21BAD051/Downloads/CarImage/Cars Dataset/train\n",
       "    StandardTransform\n",
       "Transform: ToTensor()"
      ]
     },
     "execution_count": 48,
     "metadata": {},
     "output_type": "execute_result"
    }
   ],
   "source": [
    "trainData"
   ]
  },
  {
   "cell_type": "code",
   "execution_count": 53,
   "id": "bb266962",
   "metadata": {},
   "outputs": [],
   "source": [
    "mlp=MLP(224*224*3,128,128,7)"
   ]
  },
  {
   "cell_type": "code",
   "execution_count": 60,
   "id": "dfa56a21",
   "metadata": {},
   "outputs": [],
   "source": [
    "cri=nn.CrossEntropyLoss()\n",
    "opti=optim.Adam(mlp.parameters(),lr=0.1)"
   ]
  },
  {
   "cell_type": "code",
   "execution_count": 62,
   "id": "b0b622bc",
   "metadata": {},
   "outputs": [
    {
     "ename": "RuntimeError",
     "evalue": "shape '[-1, 150528]' is invalid for input of size 151200",
     "output_type": "error",
     "traceback": [
      "\u001b[1;31m---------------------------------------------------------------------------\u001b[0m",
      "\u001b[1;31mRuntimeError\u001b[0m                              Traceback (most recent call last)",
      "\u001b[1;32m~\\AppData\\Local\\Temp\\ipykernel_16184\\2510157899.py\u001b[0m in \u001b[0;36m<module>\u001b[1;34m\u001b[0m\n\u001b[0;32m      3\u001b[0m     \u001b[1;32mfor\u001b[0m \u001b[0mip\u001b[0m\u001b[1;33m,\u001b[0m\u001b[0mlabel\u001b[0m \u001b[1;32min\u001b[0m \u001b[0mtrainData\u001b[0m\u001b[1;33m:\u001b[0m\u001b[1;33m\u001b[0m\u001b[1;33m\u001b[0m\u001b[0m\n\u001b[0;32m      4\u001b[0m         \u001b[0mopti\u001b[0m\u001b[1;33m.\u001b[0m\u001b[0mzero_grad\u001b[0m\u001b[1;33m(\u001b[0m\u001b[1;33m)\u001b[0m\u001b[1;33m\u001b[0m\u001b[1;33m\u001b[0m\u001b[0m\n\u001b[1;32m----> 5\u001b[1;33m         \u001b[0mip\u001b[0m\u001b[1;33m.\u001b[0m\u001b[0mview\u001b[0m\u001b[1;33m(\u001b[0m\u001b[1;33m-\u001b[0m\u001b[1;36m1\u001b[0m\u001b[1;33m,\u001b[0m\u001b[1;36m224\u001b[0m\u001b[1;33m*\u001b[0m\u001b[1;36m224\u001b[0m\u001b[1;33m*\u001b[0m\u001b[1;36m3\u001b[0m\u001b[1;33m)\u001b[0m\u001b[1;33m\u001b[0m\u001b[1;33m\u001b[0m\u001b[0m\n\u001b[0m\u001b[0;32m      6\u001b[0m         \u001b[0mopts\u001b[0m\u001b[1;33m=\u001b[0m\u001b[0mmlp\u001b[0m\u001b[1;33m(\u001b[0m\u001b[0mip\u001b[0m\u001b[1;33m)\u001b[0m\u001b[1;33m\u001b[0m\u001b[1;33m\u001b[0m\u001b[0m\n\u001b[0;32m      7\u001b[0m         \u001b[0mloss1\u001b[0m\u001b[1;33m=\u001b[0m\u001b[0mcri\u001b[0m\u001b[1;33m(\u001b[0m\u001b[0mopts\u001b[0m\u001b[1;33m,\u001b[0m\u001b[0mlabel\u001b[0m\u001b[1;33m)\u001b[0m\u001b[1;33m\u001b[0m\u001b[1;33m\u001b[0m\u001b[0m\n",
      "\u001b[1;31mRuntimeError\u001b[0m: shape '[-1, 150528]' is invalid for input of size 151200"
     ]
    }
   ],
   "source": [
    "for epch in range(5):\n",
    "    loss=0.0\n",
    "    for ip,label in trainData:\n",
    "        opti.zero_grad()\n",
    "        ip.view(-1,224*224*3)\n",
    "        opts=mlp(ip)\n",
    "        loss1=cri(opts,label)\n",
    "        loss1.backward()\n",
    "        optim.step()\n",
    "        loss+=loss1.item()\n",
    "        print(\"EPOCH: \"+str(epch)+\" Loss: \"+str(loss))"
   ]
  },
  {
   "cell_type": "code",
   "execution_count": 31,
   "id": "d61e0996",
   "metadata": {},
   "outputs": [],
   "source": [
    "labels=[]\n",
    "for ip,label in trainData:\n",
    "    if label not in labels:\n",
    "        labels.append(label)\n",
    "        "
   ]
  },
  {
   "cell_type": "code",
   "execution_count": 32,
   "id": "8e8f44a2",
   "metadata": {},
   "outputs": [
    {
     "data": {
      "text/plain": [
       "[0, 1, 2, 3, 4, 5, 6]"
      ]
     },
     "execution_count": 32,
     "metadata": {},
     "output_type": "execute_result"
    }
   ],
   "source": [
    "labels"
   ]
  },
  {
   "cell_type": "code",
   "execution_count": null,
   "id": "33fadff9",
   "metadata": {},
   "outputs": [],
   "source": []
  }
 ],
 "metadata": {
  "kernelspec": {
   "display_name": "Python 3 (ipykernel)",
   "language": "python",
   "name": "python3"
  },
  "language_info": {
   "codemirror_mode": {
    "name": "ipython",
    "version": 3
   },
   "file_extension": ".py",
   "mimetype": "text/x-python",
   "name": "python",
   "nbconvert_exporter": "python",
   "pygments_lexer": "ipython3",
   "version": "3.9.13"
  }
 },
 "nbformat": 4,
 "nbformat_minor": 5
}
